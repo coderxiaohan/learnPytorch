{
 "cells": [
  {
   "cell_type": "code",
   "execution_count": null,
   "id": "c7f6a551-762e-4a16-a63c-27add1784bb5",
   "metadata": {},
   "outputs": [],
   "source": [
    "import torch"
   ]
  },
  {
   "cell_type": "markdown",
   "id": "64e9d5f7-c5fa-43e9-8742-4ed6d68b6ff0",
   "metadata": {},
   "source": [
    "张量表示一个数值组成的数组，这个数组可能有很多维度"
   ]
  },
  {
   "cell_type": "code",
   "execution_count": 6,
   "id": "9df07caa-a79a-4664-8c4e-a92c84204131",
   "metadata": {},
   "outputs": [
    {
     "data": {
      "text/plain": [
       "tensor([ 0,  1,  2,  3,  4,  5,  6,  7,  8,  9, 10, 11])"
      ]
     },
     "execution_count": 6,
     "metadata": {},
     "output_type": "execute_result"
    }
   ],
   "source": [
    "x = torch.arange(12)\n",
    "x"
   ]
  },
  {
   "cell_type": "markdown",
   "id": "424b563b-513e-460e-9b7c-ea73977bb410",
   "metadata": {},
   "source": [
    "可以通过shape访问张量的形状"
   ]
  },
  {
   "cell_type": "code",
   "execution_count": 7,
   "id": "72d5e22d-c1e2-4fd2-bfb9-dc5e8d8707b7",
   "metadata": {},
   "outputs": [
    {
     "data": {
      "text/plain": [
       "torch.Size([12])"
      ]
     },
     "execution_count": 7,
     "metadata": {},
     "output_type": "execute_result"
    }
   ],
   "source": [
    "x.shape"
   ]
  },
  {
   "cell_type": "code",
   "execution_count": 8,
   "id": "e8e669f5-444b-454c-9437-458e275040a9",
   "metadata": {},
   "outputs": [
    {
     "data": {
      "text/plain": [
       "12"
      ]
     },
     "execution_count": 8,
     "metadata": {},
     "output_type": "execute_result"
    }
   ],
   "source": [
    "x.numel()"
   ]
  },
  {
   "cell_type": "code",
   "execution_count": 12,
   "id": "c7d6bef4-849c-4a7f-8fb2-b1c1515b5691",
   "metadata": {},
   "outputs": [
    {
     "data": {
      "text/plain": [
       "tensor([[ 0,  1,  2,  3],\n",
       "        [ 4,  5,  6,  7],\n",
       "        [ 8,  9, 10, 11]])"
      ]
     },
     "execution_count": 12,
     "metadata": {},
     "output_type": "execute_result"
    }
   ],
   "source": [
    "x = x.reshape(3,4)\n",
    "x"
   ]
  },
  {
   "cell_type": "markdown",
   "id": "389b5bb2-50ed-4bf9-a36f-da113d821f99",
   "metadata": {},
   "source": [
    "形状为全0"
   ]
  },
  {
   "cell_type": "code",
   "execution_count": 13,
   "id": "6917570a-5256-4481-91a4-ad3bf8f8cd23",
   "metadata": {},
   "outputs": [
    {
     "data": {
      "text/plain": [
       "tensor([[[0., 0., 0., 0.],\n",
       "         [0., 0., 0., 0.],\n",
       "         [0., 0., 0., 0.]],\n",
       "\n",
       "        [[0., 0., 0., 0.],\n",
       "         [0., 0., 0., 0.],\n",
       "         [0., 0., 0., 0.]]])"
      ]
     },
     "execution_count": 13,
     "metadata": {},
     "output_type": "execute_result"
    }
   ],
   "source": [
    "torch.zeros((2,3,4))"
   ]
  },
  {
   "cell_type": "markdown",
   "id": "1b3654c9-203b-4ed7-b87a-fc466ee1d313",
   "metadata": {},
   "source": [
    "形状为全1"
   ]
  },
  {
   "cell_type": "code",
   "execution_count": 14,
   "id": "fab49f4e-08c7-4dbb-a44b-5340eccfc1b4",
   "metadata": {},
   "outputs": [
    {
     "data": {
      "text/plain": [
       "tensor([[[1., 1., 1., 1.],\n",
       "         [1., 1., 1., 1.],\n",
       "         [1., 1., 1., 1.]],\n",
       "\n",
       "        [[1., 1., 1., 1.],\n",
       "         [1., 1., 1., 1.],\n",
       "         [1., 1., 1., 1.]]])"
      ]
     },
     "execution_count": 14,
     "metadata": {},
     "output_type": "execute_result"
    }
   ],
   "source": [
    "torch.ones((2,3,4))"
   ]
  },
  {
   "cell_type": "markdown",
   "id": "95d51c1c-2632-4f0c-b196-fd31c9f0b1dc",
   "metadata": {},
   "source": [
    "通过提供嵌套列表来为所有张量赋值"
   ]
  },
  {
   "cell_type": "code",
   "execution_count": 16,
   "id": "c2630190-ce72-4997-95f8-230f6c8eacb8",
   "metadata": {},
   "outputs": [
    {
     "data": {
      "text/plain": [
       "tensor([[[2, 1, 4, 3],\n",
       "         [1, 2, 3, 4],\n",
       "         [4, 3, 2, 1]]])"
      ]
     },
     "execution_count": 16,
     "metadata": {},
     "output_type": "execute_result"
    }
   ],
   "source": [
    "torch.tensor([[[2,1,4,3],[1,2,3,4],[4,3,2,1]]])"
   ]
  },
  {
   "cell_type": "markdown",
   "id": "0b0748db-f960-4fc7-a67e-4851a55d0e51",
   "metadata": {},
   "source": [
    "+ - × ÷ 都可以按元素运算"
   ]
  },
  {
   "cell_type": "code",
   "execution_count": 19,
   "id": "521f2466-5401-42aa-97b0-e0baf0dea378",
   "metadata": {},
   "outputs": [
    {
     "data": {
      "text/plain": [
       "(tensor([ 3,  4,  6, 10]),\n",
       " tensor([-1,  0,  2,  6]),\n",
       " tensor([ 2,  4,  8, 16]),\n",
       " tensor([0.5000, 1.0000, 2.0000, 4.0000]),\n",
       " tensor([ 1,  4, 16, 64]))"
      ]
     },
     "execution_count": 19,
     "metadata": {},
     "output_type": "execute_result"
    }
   ],
   "source": [
    "x = torch.tensor([1, 2, 4, 8])\n",
    "y = torch.tensor([2, 2, 2, 2])\n",
    "x + y , x - y, x * y, x / y, x**y "
   ]
  },
  {
   "cell_type": "markdown",
   "id": "d5c23364-2ac8-46e6-b575-b17262f0ad14",
   "metadata": {},
   "source": [
    "按元素来计算"
   ]
  },
  {
   "cell_type": "code",
   "execution_count": 20,
   "id": "865454e9-3846-4b8e-857e-3abf632274fe",
   "metadata": {},
   "outputs": [
    {
     "data": {
      "text/plain": [
       "tensor([2.7183e+00, 7.3891e+00, 5.4598e+01, 2.9810e+03])"
      ]
     },
     "execution_count": 20,
     "metadata": {},
     "output_type": "execute_result"
    }
   ],
   "source": [
    "torch.exp(x)"
   ]
  },
  {
   "cell_type": "markdown",
   "id": "885e4590-3db0-470c-88b1-c76319f14c89",
   "metadata": {},
   "source": [
    "把多个张量链接起来 ,dim = 0按行拼接，dim=1，按列拼接"
   ]
  },
  {
   "cell_type": "code",
   "execution_count": 21,
   "id": "4adc977b-2b8c-4f64-986a-a753db70e312",
   "metadata": {},
   "outputs": [
    {
     "data": {
      "text/plain": [
       "(tensor([[ 0.,  1.,  2.,  3.],\n",
       "         [ 4.,  5.,  6.,  7.],\n",
       "         [ 8.,  9., 10., 11.],\n",
       "         [ 2.,  1.,  4.,  3.],\n",
       "         [ 1.,  2.,  3.,  4.],\n",
       "         [ 4.,  3.,  2.,  1.]]),\n",
       " tensor([[ 0.,  1.,  2.,  3.,  2.,  1.,  4.,  3.],\n",
       "         [ 4.,  5.,  6.,  7.,  1.,  2.,  3.,  4.],\n",
       "         [ 8.,  9., 10., 11.,  4.,  3.,  2.,  1.]]))"
      ]
     },
     "execution_count": 21,
     "metadata": {},
     "output_type": "execute_result"
    }
   ],
   "source": [
    "x = torch.arange(12, dtype=torch.float32).reshape((3,4))\n",
    "y = torch.tensor([[2.0,1,4,3],[1,2,3,4],[4,3,2,1]])\n",
    "torch.cat((x, y),dim = 0),torch.cat((x,y),dim = 1)"
   ]
  },
  {
   "cell_type": "code",
   "execution_count": 22,
   "id": "ca72c958-c49d-4e89-a706-fc5cd9eab58e",
   "metadata": {},
   "outputs": [
    {
     "data": {
      "text/plain": [
       "tensor([[False,  True, False,  True],\n",
       "        [False, False, False, False],\n",
       "        [False, False, False, False]])"
      ]
     },
     "execution_count": 22,
     "metadata": {},
     "output_type": "execute_result"
    }
   ],
   "source": [
    "x == y"
   ]
  },
  {
   "cell_type": "code",
   "execution_count": 23,
   "id": "09a08a6a-5b56-452a-b591-40482d39f720",
   "metadata": {},
   "outputs": [
    {
     "data": {
      "text/plain": [
       "tensor(66.)"
      ]
     },
     "execution_count": 23,
     "metadata": {},
     "output_type": "execute_result"
    }
   ],
   "source": [
    "x.sum()"
   ]
  },
  {
   "cell_type": "markdown",
   "id": "f6c5e920-8f1a-40ae-a867-1b04cadeab67",
   "metadata": {},
   "source": [
    "形状不同的张量，可以用广播机制,变成了矩阵相加"
   ]
  },
  {
   "cell_type": "markdown",
   "id": "396a20f0-7bdf-45dd-8205-8fb95f860c87",
   "metadata": {},
   "source": [
    "a = torch.arange(3).reshape((3,1))\n",
    "b = torch.arange(2).reshape((1,2))\n",
    "a,b"
   ]
  },
  {
   "cell_type": "code",
   "execution_count": 25,
   "id": "988a4192-b44a-4210-9969-6465a3e95e74",
   "metadata": {},
   "outputs": [
    {
     "data": {
      "text/plain": [
       "tensor([[0, 1],\n",
       "        [1, 2],\n",
       "        [2, 3]])"
      ]
     },
     "execution_count": 25,
     "metadata": {},
     "output_type": "execute_result"
    }
   ],
   "source": [
    "a + b"
   ]
  },
  {
   "cell_type": "code",
   "execution_count": 26,
   "id": "a0ed51b5-da40-464a-9aa8-b25cc354e6a5",
   "metadata": {},
   "outputs": [
    {
     "data": {
      "text/plain": [
       "(tensor([ 8.,  9., 10., 11.]),\n",
       " tensor([[ 4.,  5.,  6.,  7.],\n",
       "         [ 8.,  9., 10., 11.]]))"
      ]
     },
     "execution_count": 26,
     "metadata": {},
     "output_type": "execute_result"
    }
   ],
   "source": [
    "x[-1],x[1:3]"
   ]
  },
  {
   "cell_type": "markdown",
   "id": "f748814c-620d-42be-9d05-c58ec7d459c8",
   "metadata": {},
   "source": [
    "运行一些操作可能导致新结果分配内存"
   ]
  },
  {
   "cell_type": "code",
   "execution_count": 34,
   "id": "3d1b7c4f-5208-4170-b0bb-deb492b913ec",
   "metadata": {},
   "outputs": [
    {
     "data": {
      "text/plain": [
       "False"
      ]
     },
     "execution_count": 34,
     "metadata": {},
     "output_type": "execute_result"
    }
   ],
   "source": [
    "before = id(y)\n",
    "y = y + x\n",
    "id(y) == before"
   ]
  },
  {
   "cell_type": "code",
   "execution_count": null,
   "id": "6a10dd71-c9b0-4bed-ad9b-8683143bb5c6",
   "metadata": {},
   "outputs": [],
   "source": [
    "执行原地操作"
   ]
  },
  {
   "cell_type": "code",
   "execution_count": 37,
   "id": "fde45f63-f0da-4efb-a9a9-2d30704716e1",
   "metadata": {},
   "outputs": [
    {
     "name": "stdout",
     "output_type": "stream",
     "text": [
      "id(z): 140258693025936\n",
      "id(z): 140258693025936\n"
     ]
    }
   ],
   "source": [
    "z = torch.zeros_like(y)\n",
    "print('id(z):', id(z))\n",
    "z[:] = x + y\n",
    "print('id(z):', id(z))"
   ]
  },
  {
   "cell_type": "markdown",
   "id": "ccb8fa03-c3b3-423c-9fe3-e62714f72278",
   "metadata": {},
   "source": [
    "如果在后续计算中没有重复使用 X，我们也可以使用 X[:] = X + Y 或 X += Y 来减少操作的内存开销"
   ]
  },
  {
   "cell_type": "code",
   "execution_count": 38,
   "id": "68b1b211-b451-45ca-aca1-3207391aaddf",
   "metadata": {},
   "outputs": [
    {
     "data": {
      "text/plain": [
       "True"
      ]
     },
     "execution_count": 38,
     "metadata": {},
     "output_type": "execute_result"
    }
   ],
   "source": [
    "before = id(x)\n",
    "x += y\n",
    "id(x) == before"
   ]
  },
  {
   "cell_type": "markdown",
   "id": "404ba413-759a-42f6-9609-a46d4cddc2a9",
   "metadata": {},
   "source": [
    "转换为 NumPy 张量"
   ]
  },
  {
   "cell_type": "code",
   "execution_count": 39,
   "id": "42ae3a1e-77ab-447b-bf70-802c00244684",
   "metadata": {},
   "outputs": [
    {
     "data": {
      "text/plain": [
       "(numpy.ndarray, torch.Tensor)"
      ]
     },
     "execution_count": 39,
     "metadata": {},
     "output_type": "execute_result"
    }
   ],
   "source": [
    "A = x.numpy()\n",
    "B = torch.tensor(A)\n",
    "type(A),type(B)"
   ]
  },
  {
   "cell_type": "code",
   "execution_count": null,
   "id": "0baad5a8-bed7-4f7c-84ed-ee6c2a894058",
   "metadata": {},
   "outputs": [],
   "source": [
    "将大小为1的张量转换为 Python 标量"
   ]
  },
  {
   "cell_type": "code",
   "execution_count": 40,
   "id": "a61b7be7-135f-49cc-97b5-5d794f4a42d0",
   "metadata": {},
   "outputs": [
    {
     "data": {
      "text/plain": [
       "(tensor([3.5000]), 3.5, 3.5, 3)"
      ]
     },
     "execution_count": 40,
     "metadata": {},
     "output_type": "execute_result"
    }
   ],
   "source": [
    "a = torch.tensor([3.5])\n",
    "a, a.item(), float(a) ,int(a)"
   ]
  },
  {
   "cell_type": "code",
   "execution_count": null,
   "id": "8bfa20e0-78b6-40e7-bb9b-34ead4c4fbc9",
   "metadata": {},
   "outputs": [],
   "source": []
  }
 ],
 "metadata": {
  "kernelspec": {
   "display_name": "Python 3 (ipykernel)",
   "language": "python",
   "name": "python3"
  },
  "language_info": {
   "codemirror_mode": {
    "name": "ipython",
    "version": 3
   },
   "file_extension": ".py",
   "mimetype": "text/x-python",
   "name": "python",
   "nbconvert_exporter": "python",
   "pygments_lexer": "ipython3",
   "version": "3.9.21"
  }
 },
 "nbformat": 4,
 "nbformat_minor": 5
}
