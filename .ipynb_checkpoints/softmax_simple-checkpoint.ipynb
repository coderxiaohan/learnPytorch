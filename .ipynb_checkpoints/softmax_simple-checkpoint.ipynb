{
 "cells": [
  {
   "cell_type": "markdown",
   "id": "5a0b5fc7-3f55-405d-8704-aec862983d6e",
   "metadata": {},
   "source": [
    "# softmax回归的简洁实现\n",
    "通过深度学习框架的高级API能够使实现 softmax 回归变得更加容易"
   ]
  },
  {
   "cell_type": "code",
   "execution_count": 23,
   "id": "9be5fee0-0a97-4e7a-890a-0201290e36cf",
   "metadata": {},
   "outputs": [],
   "source": [
    "import torch\n",
    "from torch import nn\n",
    "from d2l import torch as d2l\n",
    "batch_size = 256\n",
    "trainer_iter, test_iter = d2l.load_data_fashion_mnist(batch_size)"
   ]
  },
  {
   "cell_type": "markdown",
   "id": "5e7bc1c5-03bc-4461-83e9-38044eb018f4",
   "metadata": {},
   "source": [
    "## 初始化模型参数\n",
    "\n",
    "如我们在 :numref:`sec_softmax`所述，\n",
    "[**softmax回归的输出层是一个全连接层**]。\n",
    "因此，为了实现我们的模型，\n",
    "我们只需在`Sequential`中添加一个带有10个输出的全连接层。\n",
    "同样，在这里`Sequential`并不是必要的，\n",
    "但它是实现深度模型的基础。\n",
    "我们仍然以均值0和标准差0.01随机初始化权重。"
   ]
  },
  {
   "cell_type": "code",
   "execution_count": 5,
   "id": "cbe88112-7d1f-4395-bcda-53ad1920a594",
   "metadata": {},
   "outputs": [
    {
     "data": {
      "text/plain": [
       "Sequential(\n",
       "  (0): Flatten(start_dim=1, end_dim=-1)\n",
       "  (1): Linear(in_features=784, out_features=10, bias=True)\n",
       ")"
      ]
     },
     "execution_count": 5,
     "metadata": {},
     "output_type": "execute_result"
    }
   ],
   "source": [
    "# PyTorch不会隐式地调整输入的形状。因此，\n",
    "# 我们在线性层前定义了展平层（flatten），来调整网络输入的形状\n",
    "net = nn.Sequential(nn.Flatten(), nn.Linear(784, 10))\n",
    "def init_weights(m):\n",
    "    if type(m) == nn.Linear:\n",
    "        nn.init.normal_(m.weight, std=0.01)\n",
    "net.apply(init_weights)"
   ]
  },
  {
   "cell_type": "markdown",
   "id": "f02a7cb9-58d5-4589-bc27-fc0f5512f6ce",
   "metadata": {},
   "source": [
    "## 优化算法\n",
    "在交叉熵损失函数中传递未归一化的预测，并同时计算softmax及其对数"
   ]
  },
  {
   "cell_type": "code",
   "execution_count": 13,
   "id": "374546b7-87d5-4d50-8e2b-0a53e10feb0e",
   "metadata": {},
   "outputs": [],
   "source": [
    "loss = nn.CrossEntropyLoss()"
   ]
  },
  {
   "cell_type": "markdown",
   "id": "66b240f7-2e8d-45ea-9b0b-04587490870e",
   "metadata": {},
   "source": [
    "使用学习率为0.1的小批量随机梯度下降作为优化算法"
   ]
  },
  {
   "cell_type": "code",
   "execution_count": 14,
   "id": "0274a424-bc22-4fe0-b8e6-208c6d81b8e2",
   "metadata": {},
   "outputs": [],
   "source": [
    "trainer = torch.optim.SGD(net.parameters(),lr=0.1)"
   ]
  },
  {
   "cell_type": "markdown",
   "id": "f6eb6076-53a5-4549-972a-4d23b7af3222",
   "metadata": {},
   "source": [
    "调用 之前 定义的训练函数来训练模型"
   ]
  },
  {
   "cell_type": "code",
   "execution_count": 18,
   "id": "5ee3356e-2940-4198-b99f-beb7ff705e12",
   "metadata": {},
   "outputs": [
    {
     "ename": "NameError",
     "evalue": "name 'train_ch3' is not defined",
     "output_type": "error",
     "traceback": [
      "\u001b[0;31m---------------------------------------------------------------------------\u001b[0m",
      "\u001b[0;31mNameError\u001b[0m                                 Traceback (most recent call last)",
      "Cell \u001b[0;32mIn[18], line 2\u001b[0m\n\u001b[1;32m      1\u001b[0m num_epochs \u001b[38;5;241m=\u001b[39m \u001b[38;5;241m10\u001b[39m\n\u001b[0;32m----> 2\u001b[0m \u001b[43mtrain_ch3\u001b[49m(net, train_iter, test_iter, loss, num_epochs, trainer)\n",
      "\u001b[0;31mNameError\u001b[0m: name 'train_ch3' is not defined"
     ]
    }
   ],
   "source": [
    "num_epochs = 10\n",
    "train_ch3(net, train_iter, test_iter, loss, num_epochs, trainer)"
   ]
  },
  {
   "cell_type": "code",
   "execution_count": null,
   "id": "596bde06-1563-43fb-bd19-e6337b61a624",
   "metadata": {},
   "outputs": [],
   "source": []
  }
 ],
 "metadata": {
  "kernelspec": {
   "display_name": "Python 3 (ipykernel)",
   "language": "python",
   "name": "python3"
  },
  "language_info": {
   "codemirror_mode": {
    "name": "ipython",
    "version": 3
   },
   "file_extension": ".py",
   "mimetype": "text/x-python",
   "name": "python",
   "nbconvert_exporter": "python",
   "pygments_lexer": "ipython3",
   "version": "3.9.21"
  }
 },
 "nbformat": 4,
 "nbformat_minor": 5
}
