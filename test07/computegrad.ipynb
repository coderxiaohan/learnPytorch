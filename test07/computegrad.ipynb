{
 "cells": [
  {
   "cell_type": "markdown",
   "id": "a8501eb5-1c40-41fb-a2fb-eaf428376b8c",
   "metadata": {},
   "source": [
    "自动求导"
   ]
  },
  {
   "cell_type": "markdown",
   "id": "6e173651-f335-497b-8e7c-9203b5862fb2",
   "metadata": {},
   "source": [
    "假设我们想对函数y=2x⊤x,关于列向量x求导"
   ]
  },
  {
   "cell_type": "code",
   "execution_count": 2,
   "id": "e00e09e4-cffe-4993-8e8a-39f04fb596c5",
   "metadata": {},
   "outputs": [
    {
     "data": {
      "text/plain": [
       "tensor([0., 1., 2., 3.])"
      ]
     },
     "execution_count": 2,
     "metadata": {},
     "output_type": "execute_result"
    }
   ],
   "source": [
    "import torch\n",
    "x = torch.arange(4.0)\n",
    "x"
   ]
  },
  {
   "cell_type": "markdown",
   "id": "022f8975-1080-4c17-861e-5911667bc581",
   "metadata": {},
   "source": [
    "在我们计算y关于x的梯度之前，我们需要一个地方来存储梯度"
   ]
  },
  {
   "cell_type": "code",
   "execution_count": 5,
   "id": "0f23e436-af60-40c6-9848-63577242afdc",
   "metadata": {},
   "outputs": [],
   "source": [
    "x.requires_grad_(True)\n",
    "x.grad"
   ]
  },
  {
   "cell_type": "markdown",
   "id": "cc4103c4-63f2-4e6b-92cc-9daffd6edc16",
   "metadata": {},
   "source": [
    "现在让我们计算y"
   ]
  },
  {
   "cell_type": "code",
   "execution_count": 6,
   "id": "ac203a39-e848-4011-8d8e-f0d64ced5f2b",
   "metadata": {},
   "outputs": [
    {
     "data": {
      "text/plain": [
       "tensor(28., grad_fn=<MulBackward0>)"
      ]
     },
     "execution_count": 6,
     "metadata": {},
     "output_type": "execute_result"
    }
   ],
   "source": [
    "y = 2 * torch.dot(x,x)\n",
    "y"
   ]
  },
  {
   "cell_type": "markdown",
   "id": "ecc101ba-ebca-4ef3-aa8a-2e34cf66f5a6",
   "metadata": {},
   "source": [
    "通过调用反向传播函数来自动计算y关于x每个分量的梯度"
   ]
  },
  {
   "cell_type": "code",
   "execution_count": 7,
   "id": "ee7516a5-57aa-48f7-8d05-573829802ad5",
   "metadata": {},
   "outputs": [
    {
     "data": {
      "text/plain": [
       "tensor([ 0.,  4.,  8., 12.])"
      ]
     },
     "execution_count": 7,
     "metadata": {},
     "output_type": "execute_result"
    }
   ],
   "source": [
    "y.backward()\n",
    "x.grad"
   ]
  },
  {
   "cell_type": "code",
   "execution_count": 8,
   "id": "56f5718d-1d1c-44cc-aaf8-61087cf43a86",
   "metadata": {},
   "outputs": [
    {
     "data": {
      "text/plain": [
       "tensor([True, True, True, True])"
      ]
     },
     "execution_count": 8,
     "metadata": {},
     "output_type": "execute_result"
    }
   ],
   "source": [
    "x.grad == 4 * x"
   ]
  },
  {
   "cell_type": "markdown",
   "id": "b6af094c-c265-41a0-9a27-374379b10b19",
   "metadata": {},
   "source": [
    "现在让我们计算x的另一个函数"
   ]
  },
  {
   "cell_type": "code",
   "execution_count": 13,
   "id": "2453761a-554c-449b-b894-6d6953eceef1",
   "metadata": {},
   "outputs": [
    {
     "data": {
      "text/plain": [
       "tensor([1., 1., 1., 1.])"
      ]
     },
     "execution_count": 13,
     "metadata": {},
     "output_type": "execute_result"
    }
   ],
   "source": [
    "x.grad.zero_()   # 梯度清零\n",
    "y = x.sum()\n",
    "y.backward()\n",
    "x.grad"
   ]
  },
  {
   "cell_type": "markdown",
   "id": "b0f2c445-9e11-405f-9503-d4d4abe41294",
   "metadata": {},
   "source": [
    "深度学习中 ，我们的目的不是计算微分矩阵，而是批量中每个样本单独计算的偏导数之和"
   ]
  },
  {
   "cell_type": "code",
   "execution_count": 14,
   "id": "15963fdf-8389-4cf4-8542-7439a849fe01",
   "metadata": {},
   "outputs": [
    {
     "data": {
      "text/plain": [
       "tensor([0., 2., 4., 6.])"
      ]
     },
     "execution_count": 14,
     "metadata": {},
     "output_type": "execute_result"
    }
   ],
   "source": [
    "x.grad.zero_()\n",
    "y = x * x\n",
    "y.sum().backward()\n",
    "x.grad"
   ]
  },
  {
   "cell_type": "markdown",
   "id": "9058978e-472f-4d05-9144-a5da466e4be1",
   "metadata": {},
   "source": [
    "将某些计算移动到记录的计算图之外(它用于从计算图中分离一个张量,y.detach() 返回一个新的张量，该张量与原始张量 y 共享相同的数据，但不再与计算图关联。这意味着，分离后的张量将不再参与梯度的计算。) "
   ]
  },
  {
   "cell_type": "code",
   "execution_count": 15,
   "id": "6aa844c4-9e59-44ac-bbe4-8f0fc0e8493b",
   "metadata": {},
   "outputs": [
    {
     "data": {
      "text/plain": [
       "tensor([True, True, True, True])"
      ]
     },
     "execution_count": 15,
     "metadata": {},
     "output_type": "execute_result"
    }
   ],
   "source": [
    "x.grad.zero_()\n",
    "y = x * x\n",
    "u = y.detach()  \n",
    "z = u * x\n",
    "z.sum().backward()\n",
    "x.grad == u"
   ]
  },
  {
   "cell_type": "code",
   "execution_count": 16,
   "id": "a9790156-28dc-4b88-b1cd-6f561241b805",
   "metadata": {},
   "outputs": [
    {
     "data": {
      "text/plain": [
       "tensor([True, True, True, True])"
      ]
     },
     "execution_count": 16,
     "metadata": {},
     "output_type": "execute_result"
    }
   ],
   "source": [
    "x.grad.zero_()\n",
    "y.sum().backward()\n",
    "x.grad == 2 * x"
   ]
  },
  {
   "cell_type": "markdown",
   "id": "076cb6a4-07ba-44ee-a8e7-aa9cb7fe6f33",
   "metadata": {},
   "source": [
    "即使构建函数的计算图需要通过Python控制流（例如，条件、循环或任意函数调用），我们仍然可以计算得到的变量的梯度"
   ]
  },
  {
   "cell_type": "code",
   "execution_count": 20,
   "id": "92aedd94-9247-41ac-8b45-9792eecaf2e3",
   "metadata": {},
   "outputs": [
    {
     "data": {
      "text/plain": [
       "tensor(True)"
      ]
     },
     "execution_count": 20,
     "metadata": {},
     "output_type": "execute_result"
    }
   ],
   "source": [
    "def f(a):\n",
    "    b = a * 2\n",
    "    while b.norm() < 1000:\n",
    "        b = b * 2\n",
    "    if b.sum() > 0:\n",
    "        c = b\n",
    "    else:\n",
    "        c = 100 * b\n",
    "    return c\n",
    "a = torch.randn(size=(),requires_grad=True)\n",
    "d = f(a)  # d = k*a(k = 2,4,6,...)\n",
    "d.backward()\n",
    "a.grad == d/a   "
   ]
  }
 ],
 "metadata": {
  "kernelspec": {
   "display_name": "Python 3 (ipykernel)",
   "language": "python",
   "name": "python3"
  },
  "language_info": {
   "codemirror_mode": {
    "name": "ipython",
    "version": 3
   },
   "file_extension": ".py",
   "mimetype": "text/x-python",
   "name": "python",
   "nbconvert_exporter": "python",
   "pygments_lexer": "ipython3",
   "version": "3.9.21"
  }
 },
 "nbformat": 4,
 "nbformat_minor": 5
}
