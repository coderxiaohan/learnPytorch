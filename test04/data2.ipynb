{
 "cells": [
  {
   "cell_type": "markdown",
   "id": "055bcb55-9159-4ab9-b136-a6d700fb547c",
   "metadata": {},
   "source": [
    "数据预处理"
   ]
  },
  {
   "cell_type": "markdown",
   "id": "a523666f-4586-472d-b949-63bf17e4c56f",
   "metadata": {},
   "source": [
    "创建一个人工数据集，并存储在csv（逗号分隔值）文件"
   ]
  },
  {
   "cell_type": "code",
   "execution_count": 13,
   "id": "c6b1ad37-dcc1-47c8-a911-d5885058160a",
   "metadata": {},
   "outputs": [],
   "source": [
    "import os \n",
    "\n",
    "os.makedirs(os.path.join('..','data'), exist_ok=True)\n",
    "data_file = os.path.join('..','data','house_tiny.csv')\n",
    "with open(data_file,'w') as f:\n",
    "    f.write('NumRooms,Alley,Price\\n')\n",
    "    f.write('NA,Pave,127500\\n')\n",
    "    f.write('2.0,NA,106000\\n')\n",
    "    f.write('4.0,NA,178100\\n')\n",
    "    f.write('NA,NA,140000\\n')"
   ]
  },
  {
   "cell_type": "markdown",
   "id": "d87f12ec-ec93-47ee-8ed3-616ce560dc8a",
   "metadata": {},
   "source": [
    "从创建的csv文件中加载原始数据集"
   ]
  },
  {
   "cell_type": "code",
   "execution_count": 14,
   "id": "80eefa48-674a-4e7b-8a47-ad87e7039de7",
   "metadata": {},
   "outputs": [
    {
     "data": {
      "text/html": [
       "<div>\n",
       "<style scoped>\n",
       "    .dataframe tbody tr th:only-of-type {\n",
       "        vertical-align: middle;\n",
       "    }\n",
       "\n",
       "    .dataframe tbody tr th {\n",
       "        vertical-align: top;\n",
       "    }\n",
       "\n",
       "    .dataframe thead th {\n",
       "        text-align: right;\n",
       "    }\n",
       "</style>\n",
       "<table border=\"1\" class=\"dataframe\">\n",
       "  <thead>\n",
       "    <tr style=\"text-align: right;\">\n",
       "      <th></th>\n",
       "      <th>NumRooms</th>\n",
       "      <th>Alley</th>\n",
       "      <th>Price</th>\n",
       "    </tr>\n",
       "  </thead>\n",
       "  <tbody>\n",
       "    <tr>\n",
       "      <th>0</th>\n",
       "      <td>NaN</td>\n",
       "      <td>Pave</td>\n",
       "      <td>127500</td>\n",
       "    </tr>\n",
       "    <tr>\n",
       "      <th>1</th>\n",
       "      <td>2.0</td>\n",
       "      <td>NaN</td>\n",
       "      <td>106000</td>\n",
       "    </tr>\n",
       "    <tr>\n",
       "      <th>2</th>\n",
       "      <td>4.0</td>\n",
       "      <td>NaN</td>\n",
       "      <td>178100</td>\n",
       "    </tr>\n",
       "    <tr>\n",
       "      <th>3</th>\n",
       "      <td>NaN</td>\n",
       "      <td>NaN</td>\n",
       "      <td>140000</td>\n",
       "    </tr>\n",
       "  </tbody>\n",
       "</table>\n",
       "</div>"
      ],
      "text/plain": [
       "   NumRooms Alley   Price\n",
       "0       NaN  Pave  127500\n",
       "1       2.0   NaN  106000\n",
       "2       4.0   NaN  178100\n",
       "3       NaN   NaN  140000"
      ]
     },
     "execution_count": 14,
     "metadata": {},
     "output_type": "execute_result"
    }
   ],
   "source": [
    "import pandas as pd\n",
    "data = pd.read_csv(data_file)\n",
    "data"
   ]
  },
  {
   "cell_type": "markdown",
   "id": "f3a70057-9c2b-4a3f-aaac-a2780bf324b5",
   "metadata": {},
   "source": [
    " 为了处理缺失的数据，典型的方法包括插值和删除， 这里，我们将考虑插值 iloc(indexlocation)   "
   ]
  },
  {
   "cell_type": "code",
   "execution_count": 43,
   "id": "3a335328-06ca-427d-a816-95f51e3bf780",
   "metadata": {},
   "outputs": [
    {
     "name": "stdout",
     "output_type": "stream",
     "text": [
      "   NumRooms Alley\n",
      "0       3.0  Pave\n",
      "1       2.0   NaN\n",
      "2       4.0   NaN\n",
      "3       3.0   NaN\n"
     ]
    }
   ],
   "source": [
    "inputs, outputs = data.iloc[:, 0:2], data.iloc[:, 2]\n",
    "inputs['NumRooms'] = inputs['NumRooms'].fillna(3)\n",
    "print(inputs)"
   ]
  },
  {
   "cell_type": "markdown",
   "id": "551df70a-fffe-425d-9bd5-86f8d2591ebe",
   "metadata": {},
   "source": [
    "对于inputs中的类别值或离散值，我们将“NaN”视为一个类别,get_dummies() 用于将分类变量（如字符串列）转换为虚拟变量（也叫独热编码）,dummy_na=True：这个参数控制是否将缺失值（NaN）也转化为一个新的虚拟变量列"
   ]
  },
  {
   "cell_type": "code",
   "execution_count": 44,
   "id": "d5547a30-f8a1-48ff-8a87-1dd1f9f6a5fb",
   "metadata": {},
   "outputs": [
    {
     "name": "stdout",
     "output_type": "stream",
     "text": [
      "   NumRooms  Alley_Pave  Alley_nan\n",
      "0       3.0           1          0\n",
      "1       2.0           0          1\n",
      "2       4.0           0          1\n",
      "3       3.0           0          1\n"
     ]
    }
   ],
   "source": [
    "inputs = pd.get_dummies(inputs,dummy_na=True)\n",
    "inputs[inputs.columns[1:]] = inputs[inputs.columns[1:]].astype(int)\n",
    "print(inputs)"
   ]
  },
  {
   "cell_type": "markdown",
   "id": "ba94956b-e2b2-4006-9678-45d6efd66ff5",
   "metadata": {},
   "source": [
    "现在inputs和outputs中的所有条目都是数值类型，它们可以转换为张量格式"
   ]
  },
  {
   "cell_type": "code",
   "execution_count": 45,
   "id": "44181924-627e-427f-b98b-e601a14c79f7",
   "metadata": {},
   "outputs": [
    {
     "data": {
      "text/plain": [
       "(tensor([[3., 1., 0.],\n",
       "         [2., 0., 1.],\n",
       "         [4., 0., 1.],\n",
       "         [3., 0., 1.]], dtype=torch.float64),\n",
       " tensor([127500, 106000, 178100, 140000]))"
      ]
     },
     "execution_count": 45,
     "metadata": {},
     "output_type": "execute_result"
    }
   ],
   "source": [
    "import torch\n",
    "a,b = torch.tensor(inputs.values),torch.tensor(outputs.values)\n",
    "a,b"
   ]
  }
 ],
 "metadata": {
  "kernelspec": {
   "display_name": "Python 3 (ipykernel)",
   "language": "python",
   "name": "python3"
  },
  "language_info": {
   "codemirror_mode": {
    "name": "ipython",
    "version": 3
   },
   "file_extension": ".py",
   "mimetype": "text/x-python",
   "name": "python",
   "nbconvert_exporter": "python",
   "pygments_lexer": "ipython3",
   "version": "3.9.21"
  }
 },
 "nbformat": 4,
 "nbformat_minor": 5
}
