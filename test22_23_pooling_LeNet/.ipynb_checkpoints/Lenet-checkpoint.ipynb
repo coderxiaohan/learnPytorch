{
 "cells": [
  {
   "cell_type": "markdown",
   "id": "2ce10ccd-53f3-45f7-a116-057bb432e6c3",
   "metadata": {},
   "source": [
    "# 卷积神经网络（LeNet）"
   ]
  },
  {
   "cell_type": "markdown",
   "id": "77562f6a-41c2-464b-b1d1-8e7bf68e6afe",
   "metadata": {},
   "source": [
    "LeNet（LeNet-5）由两个部分组成： 卷积编码器和全连接层密集块"
   ]
  },
  {
   "cell_type": "code",
   "execution_count": 9,
   "id": "bd13a91b-495e-4307-90a8-2f7849211dd9",
   "metadata": {},
   "outputs": [],
   "source": [
    "import os\n",
    "os.environ[\"KMP_DUPLICATE_LIB_OK\"]=\"TRUE\""
   ]
  },
  {
   "cell_type": "code",
   "execution_count": 10,
   "id": "54b62d23-d724-45ad-af1c-3aca57cba00e",
   "metadata": {},
   "outputs": [],
   "source": [
    "import torch\n",
    "from torch import nn\n",
    "from d2l import torch as d2l\n",
    "\n",
    "class Reshape(torch.nn.Module):\n",
    "    def forward(self, X):\n",
    "        return X.view(-1, 1, 28, 28)\n",
    "\n",
    "net = torch.nn.Sequential(Reshape(), nn.Conv2d(1, 6, kernel_size=5,\n",
    "                                              padding=2), nn.Sigmoid(),\n",
    "                         nn.AvgPool2d(kernel_size=2, stride=2), \n",
    "                         nn.Conv2d(6, 16, kernel_size=5), nn.Sigmoid(),\n",
    "                         nn.AvgPool2d(kernel_size=2, stride=2), nn.Flatten(),\n",
    "                         nn.Linear(16 * 5 * 5, 120), nn.Sigmoid(),\n",
    "                         nn.Linear(120, 84), nn.Sigmoid(), nn.Linear(84, 10))"
   ]
  },
  {
   "cell_type": "markdown",
   "id": "3c373e37-b4d2-4e99-ae2e-e3f632eca1ea",
   "metadata": {},
   "source": [
    "检查模型"
   ]
  },
  {
   "cell_type": "code",
   "execution_count": 11,
   "id": "66a2aa1b-4ead-4a5a-8e60-44a35ba0a0d9",
   "metadata": {},
   "outputs": [
    {
     "name": "stdout",
     "output_type": "stream",
     "text": [
      "CUDA_VISIBLE_DEVICES: 0\n",
      "CUDA Available: True\n",
      "GPU数量: 1\n",
      "显存占用: 11.44482421875 MB\n"
     ]
    }
   ],
   "source": [
    "import os\n",
    "import torch\n",
    "\n",
    "# 设置可见GPU（可选）\n",
    "os.environ[\"CUDA_VISIBLE_DEVICES\"] = \"0\"  # 使用GPU 0\n",
    "\n",
    "# 检查CUDA状态\n",
    "print(\"CUDA_VISIBLE_DEVICES:\", os.environ.get(\"CUDA_VISIBLE_DEVICES\"))\n",
    "print(\"CUDA Available:\", torch.cuda.is_available())\n",
    "print(\"GPU数量:\", torch.cuda.device_count())\n",
    "\n",
    "# 显存分配测试\n",
    "if torch.cuda.is_available():\n",
    "    device = torch.device(\"cuda\")\n",
    "    x = torch.randn(1000, 1000).to(device)\n",
    "    y = torch.randn(1000, 1000).to(device)\n",
    "    z = x @ y\n",
    "    print(\"显存占用:\", torch.cuda.memory_allocated() / 1024**2, \"MB\")\n",
    "else:\n",
    "    print(\"CUDA不可用，请检查驱动或PyTorch安装！\")\n"
   ]
  },
  {
   "cell_type": "code",
   "execution_count": 12,
   "id": "0e75df5c-a921-4ff3-a214-e2c47cf306c6",
   "metadata": {},
   "outputs": [
    {
     "name": "stdout",
     "output_type": "stream",
     "text": [
      "Reshape output shape: \t torch.Size([1, 1, 28, 28])\n",
      "Conv2d output shape: \t torch.Size([1, 6, 28, 28])\n",
      "Sigmoid output shape: \t torch.Size([1, 6, 28, 28])\n",
      "AvgPool2d output shape: \t torch.Size([1, 6, 14, 14])\n",
      "Conv2d output shape: \t torch.Size([1, 16, 10, 10])\n",
      "Sigmoid output shape: \t torch.Size([1, 16, 10, 10])\n",
      "AvgPool2d output shape: \t torch.Size([1, 16, 5, 5])\n",
      "Flatten output shape: \t torch.Size([1, 400])\n",
      "Linear output shape: \t torch.Size([1, 120])\n",
      "Sigmoid output shape: \t torch.Size([1, 120])\n",
      "Linear output shape: \t torch.Size([1, 84])\n",
      "Sigmoid output shape: \t torch.Size([1, 84])\n",
      "Linear output shape: \t torch.Size([1, 10])\n"
     ]
    }
   ],
   "source": [
    "X = torch.rand(size=(1, 1, 28, 28), dtype=torch.float32)\n",
    "for layer in net:\n",
    "    X = layer(X)\n",
    "    print(layer.__class__.__name__,'output shape: \\t', X.shape)"
   ]
  },
  {
   "cell_type": "code",
   "execution_count": 13,
   "id": "ef89781c-aa56-4aea-ae35-bb16266a1497",
   "metadata": {},
   "outputs": [],
   "source": [
    "torch.cuda.empty_cache()"
   ]
  },
  {
   "cell_type": "markdown",
   "id": "7fc3f566-db7c-4ed3-825a-87131aedf064",
   "metadata": {},
   "source": [
    "LeNet在Fashion-MNIST数据集上的表现"
   ]
  },
  {
   "cell_type": "code",
   "execution_count": 14,
   "id": "cb7fb1aa-4674-4698-b199-b1bcd98ade1f",
   "metadata": {},
   "outputs": [],
   "source": [
    "batch_size=256\n",
    "train_iter, test_iter = d2l.load_data_fashion_mnist(batch_size=batch_size)"
   ]
  },
  {
   "cell_type": "markdown",
   "id": "064e8fe8-0cb4-4d16-9d7f-48b849a0eda7",
   "metadata": {},
   "source": [
    "对 evaluate_accuracy函数进行轻微的修改"
   ]
  },
  {
   "cell_type": "code",
   "execution_count": 15,
   "id": "71c3bcfd-b6d2-4b00-834b-eafe95527f78",
   "metadata": {},
   "outputs": [],
   "source": [
    "def evaluate_accuracy_gpu(net, data_iter, device=None):\n",
    "    if isinstance(net, torch.nn.Module):\n",
    "        net.eval()\n",
    "        if not device:\n",
    "            device = next(iter(net.parameters())).device\n",
    "    metric = d2l.Accumulator(2)\n",
    "    for X, y in data_iter:\n",
    "        if isinstance(X, list):\n",
    "            X = [x.to(device) for x in X]\n",
    "        else:\n",
    "            X = X.to(device)\n",
    "        y = y.to(device)\n",
    "        metric.add(d2l.accuracy(net(X),y), y.numel())\n",
    "    return metric[0] / metric[1] "
   ]
  },
  {
   "cell_type": "markdown",
   "id": "26805542-dfac-452a-bfd4-2d6d07a79f5f",
   "metadata": {},
   "source": [
    "为了使用 GPU，我们还需要一点小改动"
   ]
  },
  {
   "cell_type": "code",
   "execution_count": 16,
   "id": "0ea5c047-ffbd-439a-b5a3-d24e2706605e",
   "metadata": {},
   "outputs": [],
   "source": [
    "def train_ch6(net, train_iter,test_iter, num_epochs, lr, device):\n",
    "    \"\"\"用GPU训练模型(在第六章定义)。\"\"\"\n",
    "    def init_weights(m):\n",
    "        if type(m) == nn.Linear or type(m) == nn.Conv2d:\n",
    "            nn.init.xavier_uniform_(m.weight)\n",
    "    net.apply(init_weights)\n",
    "    print('training on', device)\n",
    "    net.to(device)\n",
    "    optimizer = torch.optim.SGD(net.parameters(), lr=lr)\n",
    "    loss = nn.CrossEntropyLoss()\n",
    "    animator = d2l.Animator(xlabel='epoch', xlim=[1, num_epochs],\n",
    "                            legend=['train loss', 'train acc', 'test acc'])\n",
    "    timer, num_batches = d2l.Timer(), len(train_iter)\n",
    "    for epoch in range(num_epochs):\n",
    "        # 训练损失之和，训练准确率之和，样本数\n",
    "        metric = d2l.Accumulator(3)\n",
    "        net.train()\n",
    "        for i, (X, y) in enumerate(train_iter):\n",
    "            timer.start()\n",
    "            optimizer.zero_grad()\n",
    "            X, y = X.to(device), y.to(device) \n",
    "            y_hat = net(X)\n",
    "            l = loss(y_hat, y)\n",
    "            l.backward()\n",
    "            optimizer.step()\n",
    "            with torch.no_grad():\n",
    "                metric.add(l * X.shape[0], d2l.accuracy(y_har, y), X.shape[0])\n",
    "            timer.stop()\n",
    "            train_l = metric[0] / metric[2]\n",
    "            train_acc = metric[1] / metric[2]\n",
    "            if (i + 1) % (num_epochs // 5) == 0 or i == num_batches - 1:\n",
    "                animator.add(epoch + (i + 1) / num_batches,\n",
    "                             (train_l, train_acc, None))\n",
    "        test_acc = evaluate_accuracy_gpu(net, test_iter)\n",
    "        animator.add(epoch + 1, (None, None, test_acc))\n",
    "    print(f'loss {train_l:.3f}, train acc {train_acc:.3f}, '\n",
    "          f'test acc {test_acc:.3f}')\n",
    "    print(f'{metric[2] * num_epochs / timer.sum():.1f} examples/sec '\n",
    "          f'on {str(device)}')"
   ]
  },
  {
   "cell_type": "markdown",
   "id": "b52ddd66-e8e6-44c1-b536-a9a99933faba",
   "metadata": {},
   "source": [
    "训练和评估LeNet-5模型"
   ]
  },
  {
   "cell_type": "code",
   "execution_count": 17,
   "id": "79f06bcb-3eac-4ccb-980a-67330f9ed472",
   "metadata": {},
   "outputs": [],
   "source": [
    "net = net.cuda()  # 确保模型在GPU\n",
    "# train_iter = train_iter.cuda()    # 确保数据在GPU"
   ]
  },
  {
   "cell_type": "code",
   "execution_count": null,
   "id": "2090498c-4aa9-4f2a-b0ea-11973c542f9a",
   "metadata": {},
   "outputs": [
    {
     "name": "stdout",
     "output_type": "stream",
     "text": [
      "training on cuda:0\n"
     ]
    }
   ],
   "source": [
    "lr, num_epochs = 0.9, 10\n",
    "train_ch6(net, train_iter, test_iter, num_epochs, lr, d2l.try_gpu())"
   ]
  },
  {
   "cell_type": "code",
   "execution_count": null,
   "id": "c01d12ab-96e0-43e8-a9a4-3ebf50be43ec",
   "metadata": {},
   "outputs": [],
   "source": []
  }
 ],
 "metadata": {
  "kernelspec": {
   "display_name": "Python 3 (ipykernel)",
   "language": "python",
   "name": "python3"
  },
  "language_info": {
   "codemirror_mode": {
    "name": "ipython",
    "version": 3
   },
   "file_extension": ".py",
   "mimetype": "text/x-python",
   "name": "python",
   "nbconvert_exporter": "python",
   "pygments_lexer": "ipython3",
   "version": "3.9.21"
  }
 },
 "nbformat": 4,
 "nbformat_minor": 5
}
