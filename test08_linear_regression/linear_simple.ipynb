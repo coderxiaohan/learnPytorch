{
 "cells": [
  {
   "cell_type": "markdown",
   "id": "42896b3f-b676-42f8-89cf-cce5423d4c71",
   "metadata": {},
   "source": [
    "线性回归的简洁实现\n",
    "通过使用深度学习框架来简洁地实现 线性回归模型 生成数据集"
   ]
  },
  {
   "cell_type": "code",
   "execution_count": 6,
   "id": "98dd1e37-ce3a-4391-a4ba-2a6f5ae858c1",
   "metadata": {},
   "outputs": [],
   "source": [
    "def synthetic_data(w, b, num_examples):\n",
    "    \"\"\"生成 y = Xw + b + 噪声。\"\"\"\n",
    "    X = torch.normal(0,1,(num_examples,len(w)))\n",
    "    y = torch.matmul(X,w) + b\n",
    "    y = y + torch.normal(0,0.01,y.shape)\n",
    "    return X ,y.reshape(-1,1)"
   ]
  },
  {
   "cell_type": "code",
   "execution_count": 7,
   "id": "eff213cc-61ef-4711-a1d3-44ddfd80c593",
   "metadata": {},
   "outputs": [],
   "source": [
    "import numpy as np\n",
    "import torch\n",
    "from torch.utils import data\n",
    "from d2l import torch as d2l\n",
    "\n",
    "true_w = torch.tensor([2,-3.4])\n",
    "true_b = 4.2\n",
    "features, labels = synthetic_data(true_w, true_b, 1000)"
   ]
  },
  {
   "cell_type": "markdown",
   "id": "c48884ad-25c1-4676-be2a-f1276f6c0672",
   "metadata": {},
   "source": [
    "调用框架中现有的API来读取数据"
   ]
  },
  {
   "cell_type": "code",
   "execution_count": 11,
   "id": "a20c2334-b25e-46a5-baa5-1c89522a304b",
   "metadata": {},
   "outputs": [
    {
     "data": {
      "text/plain": [
       "[tensor([[ 0.3081,  0.0566],\n",
       "         [ 2.1635,  2.0429],\n",
       "         [-0.5388, -0.0290],\n",
       "         [ 0.8350, -0.2062],\n",
       "         [ 0.4794, -0.5743],\n",
       "         [ 1.1194, -0.8138],\n",
       "         [ 1.2087,  0.4139],\n",
       "         [-1.0624,  1.6515],\n",
       "         [ 0.7779,  1.2151],\n",
       "         [-0.2799,  0.3899]]),\n",
       " tensor([[ 4.6187],\n",
       "         [ 1.5773],\n",
       "         [ 3.2295],\n",
       "         [ 6.5922],\n",
       "         [ 7.1194],\n",
       "         [ 9.2184],\n",
       "         [ 5.2136],\n",
       "         [-3.5441],\n",
       "         [ 1.6322],\n",
       "         [ 2.3151]])]"
      ]
     },
     "execution_count": 11,
     "metadata": {},
     "output_type": "execute_result"
    }
   ],
   "source": [
    "def load_array(data_arrays, batch_size, is_train=True):\n",
    "    \"构造一个Pytorch数据迭代器\"\n",
    "    dataset = data.TensorDataset(*data_arrays)\n",
    "    return data.DataLoader(dataset,batch_size,shuffle=is_train)\n",
    "batch_size = 10\n",
    "data_iter = load_array((features,labels), batch_size)\n",
    "next(iter(data_iter))"
   ]
  },
  {
   "cell_type": "markdown",
   "id": "0cb3e255-ebb6-4b96-9078-a7bb45e23b62",
   "metadata": {},
   "source": [
    "使用框架的预定义好的层"
   ]
  },
  {
   "cell_type": "code",
   "execution_count": 13,
   "id": "a43f5f73-faf1-4d61-9e09-0bf47a61ed71",
   "metadata": {},
   "outputs": [],
   "source": [
    "from torch import nn\n",
    "net = nn.Sequential(nn.Linear(2,1))"
   ]
  },
  {
   "cell_type": "markdown",
   "id": "c0100b2b-84bd-4586-b450-3b9839a0db0a",
   "metadata": {},
   "source": [
    "初始化模型参数"
   ]
  },
  {
   "cell_type": "code",
   "execution_count": 15,
   "id": "7218cbe5-c62a-4b8f-b86e-e580fa032c53",
   "metadata": {},
   "outputs": [
    {
     "data": {
      "text/plain": [
       "tensor([0.])"
      ]
     },
     "execution_count": 15,
     "metadata": {},
     "output_type": "execute_result"
    }
   ],
   "source": [
    "net[0].weight.data.normal_(0,0.01)\n",
    "net[0].bias.data.fill_(0)"
   ]
  },
  {
   "cell_type": "markdown",
   "id": "e5ecfe51-a693-4cb3-9784-1ed35df7c0f0",
   "metadata": {},
   "source": [
    "计算均方误差使用的是MSELoss类，也称为平方L2范数"
   ]
  },
  {
   "cell_type": "code",
   "execution_count": 17,
   "id": "cfd12158-e008-4802-92bd-23b0cbe25b39",
   "metadata": {},
   "outputs": [],
   "source": [
    "loss = nn.MSELoss()"
   ]
  },
  {
   "cell_type": "markdown",
   "id": "8a8f2820-d049-4a14-8e0e-7f23d2f37f22",
   "metadata": {},
   "source": [
    "实例化 SGD 实例"
   ]
  },
  {
   "cell_type": "code",
   "execution_count": 18,
   "id": "9214c475-2a4e-41f5-b306-159072403b55",
   "metadata": {},
   "outputs": [],
   "source": [
    "trainer = torch.optim.SGD(net.parameters(),lr=0.03)"
   ]
  },
  {
   "cell_type": "markdown",
   "id": "bb0aa78f-ead9-4cca-bb0a-a56be6c211f6",
   "metadata": {},
   "source": [
    "训练过程代码与我们从零开始实现时所做的非常相似"
   ]
  },
  {
   "cell_type": "code",
   "execution_count": 21,
   "id": "2d33b8ad-5f53-4667-b552-6d9ca8acf949",
   "metadata": {},
   "outputs": [
    {
     "name": "stdout",
     "output_type": "stream",
     "text": [
      "epoch 1, loss 0.000096\n",
      "epoch 2, loss 0.000096\n",
      "epoch 3, loss 0.000097\n"
     ]
    }
   ],
   "source": [
    "num_epochs = 3\n",
    "for epoch in range(num_epochs):\n",
    "    for X, y in data_iter:\n",
    "        l = loss(net(X), y)\n",
    "        trainer.zero_grad()\n",
    "        l.backward()\n",
    "        trainer.step()\n",
    "    l = loss(net(features),labels)\n",
    "    print(f'epoch {epoch + 1}, loss {l:f}')"
   ]
  },
  {
   "cell_type": "markdown",
   "id": "58b03a86-ea92-4e93-99e9-88366ce58618",
   "metadata": {},
   "source": [
    "比较生成数据集的真实参数和通过有限数据训练获得的模型参数"
   ]
  },
  {
   "cell_type": "code",
   "execution_count": 23,
   "id": "525529ba-6a04-425a-a127-7365e522d164",
   "metadata": {},
   "outputs": [
    {
     "name": "stdout",
     "output_type": "stream",
     "text": [
      "w的估计误差： tensor([ 8.1038e-04, -6.6757e-06])\n",
      "b的估计误差： tensor([-0.0004])\n"
     ]
    }
   ],
   "source": [
    "w = net[0].weight.data\n",
    "print('w的估计误差：', true_w - w.reshape(true_w.shape))\n",
    "b = net[0].bias.data\n",
    "print('b的估计误差：', true_b - b)"
   ]
  }
 ],
 "metadata": {
  "kernelspec": {
   "display_name": "Python 3 (ipykernel)",
   "language": "python",
   "name": "python3"
  },
  "language_info": {
   "codemirror_mode": {
    "name": "ipython",
    "version": 3
   },
   "file_extension": ".py",
   "mimetype": "text/x-python",
   "name": "python",
   "nbconvert_exporter": "python",
   "pygments_lexer": "ipython3",
   "version": "3.9.21"
  }
 },
 "nbformat": 4,
 "nbformat_minor": 5
}
